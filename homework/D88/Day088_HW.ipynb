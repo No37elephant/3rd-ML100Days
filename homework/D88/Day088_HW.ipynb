{
 "cells": [
  {
   "cell_type": "markdown",
   "metadata": {},
   "source": [
    "## Work\n",
    "1. 請嘗試寫一個 callback 用來記錄各類別在訓練過程中，對驗證集的 True Positive 與 True Negative"
   ]
  },
  {
   "cell_type": "code",
   "execution_count": 2,
   "metadata": {},
   "outputs": [],
   "source": [
    "import os\n",
    "import keras\n",
    "\n",
    "# Disable GPU\n",
    "os.environ[\"CUDA_VISIBLE_DEVICES\"] = \"\""
   ]
  },
  {
   "cell_type": "code",
   "execution_count": 3,
   "metadata": {},
   "outputs": [],
   "source": [
    "train, test = keras.datasets.cifar10.load_data()"
   ]
  },
  {
   "cell_type": "code",
   "execution_count": 4,
   "metadata": {},
   "outputs": [],
   "source": [
    "## 資料前處理\n",
    "def preproc_x(x, flatten=True):\n",
    "    x = x / 255.\n",
    "    if flatten:\n",
    "        x = x.reshape((len(x), -1))\n",
    "    return x\n",
    "\n",
    "def preproc_y(y, num_classes=10):\n",
    "    if y.shape[-1] == 1:\n",
    "        y = keras.utils.to_categorical(y, num_classes)\n",
    "    return y    "
   ]
  },
  {
   "cell_type": "code",
   "execution_count": 5,
   "metadata": {},
   "outputs": [],
   "source": [
    "x_train, y_train = train\n",
    "x_test, y_test = test\n",
    "\n",
    "# Preproc the inputs\n",
    "x_train = preproc_x(x_train)\n",
    "x_test = preproc_x(x_test)\n",
    "\n",
    "# Preprc the outputs\n",
    "y_train = preproc_y(y_train)\n",
    "y_test = preproc_y(y_test)"
   ]
  },
  {
   "cell_type": "code",
   "execution_count": 6,
   "metadata": {},
   "outputs": [],
   "source": [
    "from keras.layers import BatchNormalization\n",
    "\n",
    "def build_mlp(input_shape, output_units=10, num_neurons=[256, 256, 256]):\n",
    "    \"\"\"Code Here\n",
    "    建立你的神經網路\n",
    "    \"\"\"\n",
    "    input_layer = keras.layers.Input(input_shape)\n",
    "    \n",
    "    for i, n_units in enumerate(num_neurons):\n",
    "        if i == 0:\n",
    "            x = keras.layers.Dense(units=n_units,\n",
    "                                   activation='relu',\n",
    "                                   name='hidden_layer'+str(i))(input_layer)\n",
    "            x = BatchNormalization()(x)\n",
    "        else:\n",
    "            x = keras.layers.Dense(units=n_units,\n",
    "                                   activation='relu',\n",
    "                                   name='hidden_layer'+str(i))(x)\n",
    "            x = BatchNormalization()(x)\n",
    "        \n",
    "        out = keras.layers.Dense(units=output_units, \n",
    "                                 activation='softmax',\n",
    "                                 name='output')(x)\n",
    "        \n",
    "        model = keras.models.Model(inputs=[input_layer], outputs=[out])\n",
    "    return model"
   ]
  },
  {
   "cell_type": "code",
   "execution_count": 1,
   "metadata": {},
   "outputs": [],
   "source": [
    "## 超參數設定\n",
    "LEARNING_RATE = 1e-3\n",
    "EPOCHS = 25\n",
    "BATCH_SIZE = 1024\n",
    "MOMENTUM = 0.95"
   ]
  },
  {
   "cell_type": "code",
   "execution_count": 14,
   "metadata": {},
   "outputs": [],
   "source": [
    "# 載入 Callbacks\n",
    "from keras.callbacks import Callback\n",
    "\n",
    "# Record_fp_tp\n",
    "class Record_tp_tn(Callback):\n",
    "    \n",
    "    def __init__(self, val_data=(x_test, y_test)):\n",
    "        self.validation_data = val_data\n",
    "    \n",
    "    def on_train_begin(self, epoch, logs={}):\n",
    "        logs = logs or {}\n",
    "        record_items = [\"val_auc\", \"val_f1sc\", \"val_fp\", \"val_fn\", \"val_tp\", \"val_tn\"]\n",
    "        for i in record_items:\n",
    "            try:\n",
    "                if i not in self.params['metrics']:\n",
    "                    self.params['metrics'].append(i)\n",
    "            except:\n",
    "                self.params['metrics'] = i\n",
    "\n",
    "    def on_epoch_end(self, epoch, logs={}, thres=0.5):\n",
    "        logs = logs or {}\n",
    "        y_true = self.validation_data[1].argmax(axis = 1)\n",
    "        y_pred = self.model.predict(self.validation_data[0])\n",
    "        y_pred = (y_pred[:, 1] >= thres) * 1\n",
    "        \n",
    "        tp = keras.metrics.TruePositives()\n",
    "        tp.reset_states()\n",
    "        tp.update_state(y_true, y_pred)\n",
    "        logs['val_tp'] = tp.result()\n",
    "        \n",
    "        tn = keras.metrics.TrueNegatives()\n",
    "        tn.reset_states()\n",
    "        tn.update_state(y_true, y_pred)\n",
    "        logs['val_tn'] = tn.result()\n",
    "    \n",
    "    \"\"\"Code Here\n",
    "    撰寫一個紀錄 ture positive 與 true negative 數量的 callbacks    \n",
    "    \"\"\"\n",
    "        \n",
    "rec_tptn = Record_tp_tn()"
   ]
  },
  {
   "cell_type": "code",
   "execution_count": null,
   "metadata": {
    "scrolled": true
   },
   "outputs": [
    {
     "name": "stdout",
     "output_type": "stream",
     "text": [
      "Model: \"model_11\"\n",
      "_________________________________________________________________\n",
      "Layer (type)                 Output Shape              Param #   \n",
      "=================================================================\n",
      "input_4 (InputLayer)         [(None, 3072)]            0         \n",
      "_________________________________________________________________\n",
      "hidden_layer0 (Dense)        (None, 256)               786688    \n",
      "_________________________________________________________________\n",
      "batch_normalization_9 (Batch (None, 256)               1024      \n",
      "_________________________________________________________________\n",
      "hidden_layer1 (Dense)        (None, 256)               65792     \n",
      "_________________________________________________________________\n",
      "batch_normalization_10 (Batc (None, 256)               1024      \n",
      "_________________________________________________________________\n",
      "hidden_layer2 (Dense)        (None, 256)               65792     \n",
      "_________________________________________________________________\n",
      "batch_normalization_11 (Batc (None, 256)               1024      \n",
      "_________________________________________________________________\n",
      "output (Dense)               (None, 10)                2570      \n",
      "=================================================================\n",
      "Total params: 923,914\n",
      "Trainable params: 922,378\n",
      "Non-trainable params: 1,536\n",
      "_________________________________________________________________\n",
      "Epoch 1/25\n",
      "49/49 [==============================] - 3s 61ms/step - loss: 2.2401 - accuracy: 0.2606 - val_loss: 2.1753 - val_accuracy: 0.1949 - val_tp: 1.0000 - val_tn: 1000.0000\n",
      "Epoch 2/25\n",
      "49/49 [==============================] - 3s 55ms/step - loss: 1.7708 - accuracy: 0.3835 - val_loss: 2.0204 - val_accuracy: 0.2803 - val_tp: 19.0000 - val_tn: 1000.0000\n",
      "Epoch 3/25\n",
      "49/49 [==============================] - 3s 55ms/step - loss: 1.6380 - accuracy: 0.4266 - val_loss: 1.8585 - val_accuracy: 0.3545 - val_tp: 27.0000 - val_tn: 1000.0000\n",
      "Epoch 4/25\n",
      "49/49 [==============================] - 3s 56ms/step - loss: 1.5604 - accuracy: 0.4540 - val_loss: 1.7460 - val_accuracy: 0.3923 - val_tp: 58.0000 - val_tn: 1000.0000\n",
      "Epoch 5/25\n",
      "49/49 [==============================] - 3s 58ms/step - loss: 1.5063 - accuracy: 0.4731 - val_loss: 1.6600 - val_accuracy: 0.4195 - val_tp: 184.0000 - val_tn: 997.0000\n",
      "Epoch 6/25\n",
      "49/49 [==============================] - 3s 55ms/step - loss: 1.4614 - accuracy: 0.4885 - val_loss: 1.6117 - val_accuracy: 0.4307 - val_tp: 235.0000 - val_tn: 998.0000\n",
      "Epoch 7/25\n",
      "49/49 [==============================] - 3s 64ms/step - loss: 1.4245 - accuracy: 0.5010 - val_loss: 1.5704 - val_accuracy: 0.4424 - val_tp: 408.0000 - val_tn: 989.0000\n",
      "Epoch 8/25\n",
      "49/49 [==============================] - 3s 61ms/step - loss: 1.3906 - accuracy: 0.5144 - val_loss: 1.5235 - val_accuracy: 0.4631 - val_tp: 426.0000 - val_tn: 989.0000\n",
      "Epoch 9/25\n",
      "49/49 [==============================] - 3s 56ms/step - loss: 1.3613 - accuracy: 0.5254 - val_loss: 1.5062 - val_accuracy: 0.4656 - val_tp: 491.0000 - val_tn: 984.0000\n",
      "Epoch 10/25\n",
      "49/49 [==============================] - 3s 55ms/step - loss: 1.3346 - accuracy: 0.5339 - val_loss: 1.5059 - val_accuracy: 0.4712 - val_tp: 536.0000 - val_tn: 985.0000\n",
      "Epoch 11/25\n",
      "49/49 [==============================] - 3s 57ms/step - loss: 1.3099 - accuracy: 0.5426 - val_loss: 1.4863 - val_accuracy: 0.4772 - val_tp: 660.0000 - val_tn: 975.0000\n",
      "Epoch 12/25\n",
      "36/49 [=====================>........] - ETA: 0s - loss: 1.2873 - accuracy: 0.5506"
     ]
    }
   ],
   "source": [
    "model = build_mlp(input_shape=x_train.shape[1:])\n",
    "model.summary()\n",
    "optimizer = keras.optimizers.SGD(lr=LEARNING_RATE, nesterov=True, momentum=MOMENTUM)\n",
    "model.compile(loss=\"categorical_crossentropy\", metrics=[\"accuracy\"], optimizer=optimizer)\n",
    "\n",
    "\"\"\"Code Here\n",
    "將 callbacks 放入模型訓練流程中\n",
    "\"\"\"\n",
    "model.fit(x_train, y_train, \n",
    "          epochs=EPOCHS,\n",
    "          batch_size=BATCH_SIZE,\n",
    "          validation_data=(x_test, y_test),\n",
    "          shuffle=True,\n",
    "          callbacks=[rec_tptn])\n",
    "\n",
    "# Collect results\n",
    "train_loss = model.history.history[\"loss\"]\n",
    "valid_loss = model.history.history[\"val_loss\"]\n",
    "train_acc = model.history.history[\"accuracy\"]\n",
    "valid_acc = model.history.history[\"val_accuracy\"]\n",
    "\n",
    "\"\"\"Code Here\n",
    "將 tp/tn 從訓練完的模型中取出\n",
    "\"\"\"\n",
    "valid_tp = model.history.history['val_tp']\n",
    "valid_tn = model.history.history['val_tn']"
   ]
  },
  {
   "cell_type": "code",
   "execution_count": 13,
   "metadata": {},
   "outputs": [
    {
     "data": {
      "image/png": "[encoded data removed]",
      "text/plain": [
       "<Figure size 432x288 with 1 Axes>"
      ]
     },
     "metadata": {
      "needs_background": "light"
     },
     "output_type": "display_data"
    },
    {
     "data": {
      "image/png": "[encoded data removed]",
      "text/plain": [
       "<Figure size 432x288 with 1 Axes>"
      ]
     },
     "metadata": {
      "needs_background": "light"
     },
     "output_type": "display_data"
    },
    {
     "data": {
      "image/png": "[encoded data removed]",
      "text/plain": [
       "<Figure size 432x288 with 1 Axes>"
      ]
     },
     "metadata": {
      "needs_background": "light"
     },
     "output_type": "display_data"
    }
   ],
   "source": [
    "import matplotlib.pyplot as plt\n",
    "%matplotlib inline\n",
    "\n",
    "plt.plot(range(len(train_loss)), train_loss, label=\"train loss\")\n",
    "plt.plot(range(len(valid_loss)), valid_loss, label=\"valid loss\")\n",
    "plt.legend()\n",
    "plt.title(\"Loss\")\n",
    "plt.show()\n",
    "\n",
    "plt.plot(range(len(train_acc)), train_acc, label=\"train accuracy\")\n",
    "plt.plot(range(len(valid_acc)), valid_acc, label=\"valid accuracy\")\n",
    "plt.legend()\n",
    "plt.title(\"Accuracy\")\n",
    "plt.show()\n",
    "\n",
    "plt.plot(range(len(valid_tp)), valid_tp, label=\"valid tp\", color=\"navy\")\n",
    "plt.plot(range(len(valid_tn)), valid_tn, label=\"valid tn\", color=\"red\")\n",
    "plt.legend()\n",
    "plt.title(\"True positives and True Negatives\")\n",
    "plt.show()\n"
   ]
  },
  {
   "cell_type": "code",
   "execution_count": null,
   "metadata": {},
   "outputs": [],
   "source": []
  }
 ],
 "metadata": {
  "kernelspec": {
   "display_name": "Python 3",
   "language": "python",
   "name": "python3"
  },
  "language_info": {
   "codemirror_mode": {
    "name": "ipython",
    "version": 3
   },
   "file_extension": ".py",
   "mimetype": "text/x-python",
   "name": "python",
   "nbconvert_exporter": "python",
   "pygments_lexer": "ipython3",
   "version": "3.7.3"
  }
 },
 "nbformat": 4,
 "nbformat_minor": 2
}
