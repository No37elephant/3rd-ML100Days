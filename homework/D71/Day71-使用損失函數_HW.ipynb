{
 "cells": [
  {
   "cell_type": "markdown",
   "metadata": {
    "colab_type": "text",
    "id": "cj4tE8e8iUtO"
   },
   "source": [
    "#   \n",
    "\n",
    "# 作業目標:\n",
    "\n",
    "    1. 藉由固定的 dataset, 來驗證不同loss function\n",
    "    2. Dataset 的特性跟我們選用的loss function 對accrancy 的影響\n",
    "    \n",
    "    \n",
    "# 作業重點: \n",
    "    請分別選用 \"MSE\", \"binary _crossentropy\"\n",
    "    查看Train/test accurancy and loss rate\n",
    "    "
   ]
  },
  {
   "cell_type": "markdown",
   "metadata": {
    "colab_type": "text",
    "id": "R51J4KyyiUsL"
   },
   "source": [
    "# 導入必要的函數"
   ]
  },
  {
   "cell_type": "code",
   "execution_count": 1,
   "metadata": {
    "colab": {},
    "colab_type": "code",
    "id": "Qd68OQjciUsM"
   },
   "outputs": [],
   "source": [
    "from keras.datasets import cifar10\n",
    "import numpy as np\n",
    "np.random.seed(10)"
   ]
  },
  {
   "cell_type": "markdown",
   "metadata": {
    "colab_type": "text",
    "id": "GxKuzQLQiUsP"
   },
   "source": [
    "# 資料準備"
   ]
  },
  {
   "cell_type": "code",
   "execution_count": 2,
   "metadata": {
    "colab": {},
    "colab_type": "code",
    "id": "MIbFZdTCiUsQ"
   },
   "outputs": [],
   "source": [
    "#取得Keras Dataset\n",
    "(x_img_train,y_label_train),(x_img_test,y_label_test)=cifar10.load_data()"
   ]
  },
  {
   "cell_type": "code",
   "execution_count": 3,
   "metadata": {
    "colab": {},
    "colab_type": "code",
    "id": "J8CJVjNOiUsS"
   },
   "outputs": [
    {
     "name": "stdout",
     "output_type": "stream",
     "text": [
      "train data: images: (50000, 32, 32, 3)  labels: (50000, 1)\n",
      "test  data: images: (10000, 32, 32, 3)  labels: (10000, 1)\n"
     ]
    }
   ],
   "source": [
    "#確認 CIFAR10 Dataset 資料維度\n",
    "print(\"train data:\",'images:',x_img_train.shape,\n",
    "      \" labels:\",y_label_train.shape) \n",
    "print(\"test  data:\",'images:',x_img_test.shape ,\n",
    "      \" labels:\",y_label_test.shape) "
   ]
  },
  {
   "cell_type": "code",
   "execution_count": 4,
   "metadata": {
    "colab": {},
    "colab_type": "code",
    "id": "V3P6P4DXiUsV"
   },
   "outputs": [],
   "source": [
    "#資料正規化\n",
    "x_img_train_normalize = x_img_train.astype('float32') / 255.0\n",
    "x_img_test_normalize = x_img_test.astype('float32') / 255.0"
   ]
  },
  {
   "cell_type": "code",
   "execution_count": 5,
   "metadata": {
    "colab": {},
    "colab_type": "code",
    "id": "vsDyjKYliUsX"
   },
   "outputs": [
    {
     "data": {
      "text/plain": [
       "(10000, 10)"
      ]
     },
     "execution_count": 5,
     "metadata": {},
     "output_type": "execute_result"
    }
   ],
   "source": [
    "#針對Label 做 ONE HOT ENCODE\n",
    "from keras.utils import np_utils\n",
    "y_label_train_OneHot = np_utils.to_categorical(y_label_train)\n",
    "y_label_test_OneHot = np_utils.to_categorical(y_label_test)\n",
    "y_label_test_OneHot.shape"
   ]
  },
  {
   "cell_type": "markdown",
   "metadata": {
    "colab_type": "text",
    "id": "RutW2OtgiUsZ"
   },
   "source": [
    "# 建立模型"
   ]
  },
  {
   "cell_type": "code",
   "execution_count": 6,
   "metadata": {
    "colab": {},
    "colab_type": "code",
    "id": "aHz592aXiUsa"
   },
   "outputs": [],
   "source": [
    "from keras.models import Sequential\n",
    "from keras.layers import Dense, Dropout, Activation, Flatten\n",
    "from keras.layers import Conv2D, MaxPooling2D, ZeroPadding2D"
   ]
  },
  {
   "cell_type": "code",
   "execution_count": 7,
   "metadata": {
    "colab": {},
    "colab_type": "code",
    "id": "hslqrIp0iUse"
   },
   "outputs": [],
   "source": [
    "model = Sequential()"
   ]
  },
  {
   "cell_type": "code",
   "execution_count": 8,
   "metadata": {
    "colab": {},
    "colab_type": "code",
    "id": "Hqe35hs2iUsi"
   },
   "outputs": [],
   "source": [
    "#卷積層1"
   ]
  },
  {
   "cell_type": "code",
   "execution_count": 9,
   "metadata": {
    "colab": {},
    "colab_type": "code",
    "id": "ED7dqe1YiUsm"
   },
   "outputs": [],
   "source": [
    "model.add(Conv2D(filters=32,kernel_size=(3,3),\n",
    "                 input_shape=(32, 32,3), \n",
    "                 activation='relu', \n",
    "                 padding='same'))"
   ]
  },
  {
   "cell_type": "code",
   "execution_count": 10,
   "metadata": {
    "colab": {},
    "colab_type": "code",
    "id": "n-GRKmPViUso"
   },
   "outputs": [],
   "source": [
    "model.add(Dropout(rate=0.25))"
   ]
  },
  {
   "cell_type": "code",
   "execution_count": 11,
   "metadata": {
    "colab": {},
    "colab_type": "code",
    "id": "GlWnnD1uiUsw"
   },
   "outputs": [],
   "source": [
    "model.add(MaxPooling2D(pool_size=(2, 2)))"
   ]
  },
  {
   "cell_type": "code",
   "execution_count": 12,
   "metadata": {
    "colab": {},
    "colab_type": "code",
    "id": "nawlkt55iUsy"
   },
   "outputs": [],
   "source": [
    "#卷積層2與池化層2"
   ]
  },
  {
   "cell_type": "code",
   "execution_count": 13,
   "metadata": {
    "colab": {},
    "colab_type": "code",
    "id": "xxyETiKNiUs1"
   },
   "outputs": [],
   "source": [
    "model.add(Conv2D(filters=64, kernel_size=(3, 3), \n",
    "                 activation='relu', padding='same'))"
   ]
  },
  {
   "cell_type": "code",
   "execution_count": 14,
   "metadata": {
    "colab": {},
    "colab_type": "code",
    "id": "RqcKWtqGiUs2"
   },
   "outputs": [],
   "source": [
    "model.add(Dropout(0.25))"
   ]
  },
  {
   "cell_type": "code",
   "execution_count": 15,
   "metadata": {
    "colab": {},
    "colab_type": "code",
    "id": "BUOOzlqfiUs4"
   },
   "outputs": [],
   "source": [
    "model.add(MaxPooling2D(pool_size=(2, 2)))"
   ]
  },
  {
   "cell_type": "code",
   "execution_count": 16,
   "metadata": {
    "colab": {},
    "colab_type": "code",
    "id": "LpkppB2siUs7"
   },
   "outputs": [],
   "source": [
    "#建立神經網路(平坦層、隱藏層、輸出層)"
   ]
  },
  {
   "cell_type": "code",
   "execution_count": 17,
   "metadata": {
    "colab": {},
    "colab_type": "code",
    "id": "UQOfU54_iUs_"
   },
   "outputs": [],
   "source": [
    "model.add(Flatten())\n",
    "model.add(Dropout(rate=0.25))"
   ]
  },
  {
   "cell_type": "code",
   "execution_count": 18,
   "metadata": {
    "colab": {},
    "colab_type": "code",
    "id": "_NV-8sq4iUtD"
   },
   "outputs": [],
   "source": [
    "model.add(Dense(1024, activation='relu'))\n",
    "model.add(Dropout(rate=0.25))"
   ]
  },
  {
   "cell_type": "code",
   "execution_count": 19,
   "metadata": {
    "colab": {},
    "colab_type": "code",
    "id": "qVK77krOiUtF"
   },
   "outputs": [],
   "source": [
    "model.add(Dense(10, activation='softmax'))"
   ]
  },
  {
   "cell_type": "code",
   "execution_count": 20,
   "metadata": {
    "colab": {},
    "colab_type": "code",
    "id": "ZxzRIjR0iUtH"
   },
   "outputs": [
    {
     "name": "stdout",
     "output_type": "stream",
     "text": [
      "Model: \"sequential\"\n",
      "_________________________________________________________________\n",
      "Layer (type)                 Output Shape              Param #   \n",
      "=================================================================\n",
      "conv2d (Conv2D)              (None, 32, 32, 32)        896       \n",
      "_________________________________________________________________\n",
      "dropout (Dropout)            (None, 32, 32, 32)        0         \n",
      "_________________________________________________________________\n",
      "max_pooling2d (MaxPooling2D) (None, 16, 16, 32)        0         \n",
      "_________________________________________________________________\n",
      "conv2d_1 (Conv2D)            (None, 16, 16, 64)        18496     \n",
      "_________________________________________________________________\n",
      "dropout_1 (Dropout)          (None, 16, 16, 64)        0         \n",
      "_________________________________________________________________\n",
      "max_pooling2d_1 (MaxPooling2 (None, 8, 8, 64)          0         \n",
      "_________________________________________________________________\n",
      "flatten (Flatten)            (None, 4096)              0         \n",
      "_________________________________________________________________\n",
      "dropout_2 (Dropout)          (None, 4096)              0         \n",
      "_________________________________________________________________\n",
      "dense (Dense)                (None, 1024)              4195328   \n",
      "_________________________________________________________________\n",
      "dropout_3 (Dropout)          (None, 1024)              0         \n",
      "_________________________________________________________________\n",
      "dense_1 (Dense)              (None, 10)                10250     \n",
      "=================================================================\n",
      "Total params: 4,224,970\n",
      "Trainable params: 4,224,970\n",
      "Non-trainable params: 0\n",
      "_________________________________________________________________\n",
      "None\n"
     ]
    }
   ],
   "source": [
    "#檢查model 的STACK\n",
    "print(model.summary())"
   ]
  },
  {
   "cell_type": "markdown",
   "metadata": {
    "colab_type": "text",
    "id": "QJCtpJM0iUtJ"
   },
   "source": [
    "# 載入之前訓練的模型"
   ]
  },
  {
   "cell_type": "code",
   "execution_count": 21,
   "metadata": {
    "colab": {},
    "colab_type": "code",
    "id": "JU3A6NzQiUtK"
   },
   "outputs": [
    {
     "name": "stdout",
     "output_type": "stream",
     "text": [
      "載入模型失敗!開始訓練一個新模型\n"
     ]
    }
   ],
   "source": [
    "try:\n",
    "    model.load_weights(\"SaveModel/cifarCnnModel.h5\")\n",
    "    print(\"載入模型成功!繼續訓練模型\")\n",
    "except :    \n",
    "    print(\"載入模型失敗!開始訓練一個新模型\")"
   ]
  },
  {
   "cell_type": "markdown",
   "metadata": {
    "colab_type": "text",
    "id": "qBbCuziziUtM"
   },
   "source": [
    "# 訓練模型"
   ]
  },
  {
   "cell_type": "code",
   "execution_count": 22,
   "metadata": {
    "colab": {},
    "colab_type": "code",
    "id": "Q6BiBcseiUtP"
   },
   "outputs": [
    {
     "data": {
      "text/plain": [
       "'\\n作業:\\n請分別選用 \"MSE\", \"binary _crossentropy\"\\n查看Train/test accurancy and loss rate\\n'"
      ]
     },
     "execution_count": 22,
     "metadata": {},
     "output_type": "execute_result"
    }
   ],
   "source": [
    "model.compile(loss='categorical_crossentropy', optimizer='sgd', metrics=['accuracy'])\n",
    "\n",
    "'''\n",
    "作業:\n",
    "請分別選用 \"MSE\", \"binary _crossentropy\"\n",
    "查看Train/test accurancy and loss rate\n",
    "'''"
   ]
  },
  {
   "cell_type": "code",
   "execution_count": 22,
   "metadata": {},
   "outputs": [],
   "source": [
    "loss_list = [\"categorical_crossentropy\",\"MSE\", \"binary_crossentropy\"]"
   ]
  },
  {
   "cell_type": "code",
   "execution_count": 25,
   "metadata": {
    "colab": {},
    "colab_type": "code",
    "id": "4-GdDgmQiUtS"
   },
   "outputs": [
    {
     "name": "stdout",
     "output_type": "stream",
     "text": [
      "Epoch 1/12\n",
      "293/293 [==============================] - 43s 147ms/step - loss: 1.3397 - accuracy: 0.5250 - val_loss: 1.3916 - val_accuracy: 0.5450\n",
      "Epoch 2/12\n",
      "293/293 [==============================] - 43s 146ms/step - loss: 1.3109 - accuracy: 0.5348 - val_loss: 1.3723 - val_accuracy: 0.5541\n",
      "Epoch 3/12\n",
      "293/293 [==============================] - 43s 148ms/step - loss: 1.2947 - accuracy: 0.5422 - val_loss: 1.3597 - val_accuracy: 0.5590\n",
      "Epoch 4/12\n",
      "293/293 [==============================] - 43s 146ms/step - loss: 1.2715 - accuracy: 0.5479 - val_loss: 1.3380 - val_accuracy: 0.5742\n",
      "Epoch 5/12\n",
      "293/293 [==============================] - 42s 145ms/step - loss: 1.2524 - accuracy: 0.5561 - val_loss: 1.3140 - val_accuracy: 0.5714\n",
      "Epoch 6/12\n",
      "293/293 [==============================] - 46s 158ms/step - loss: 1.2359 - accuracy: 0.5618 - val_loss: 1.2968 - val_accuracy: 0.5821\n",
      "Epoch 7/12\n",
      "293/293 [==============================] - 43s 145ms/step - loss: 1.2152 - accuracy: 0.5680 - val_loss: 1.2754 - val_accuracy: 0.5882\n",
      "Epoch 8/12\n",
      "293/293 [==============================] - 42s 144ms/step - loss: 1.1978 - accuracy: 0.5731 - val_loss: 1.2651 - val_accuracy: 0.5951\n",
      "Epoch 9/12\n",
      "293/293 [==============================] - 42s 144ms/step - loss: 1.1816 - accuracy: 0.5819 - val_loss: 1.2497 - val_accuracy: 0.6004\n",
      "Epoch 10/12\n",
      "293/293 [==============================] - 42s 145ms/step - loss: 1.1704 - accuracy: 0.5878 - val_loss: 1.2554 - val_accuracy: 0.6004\n",
      "Epoch 11/12\n",
      "293/293 [==============================] - 43s 146ms/step - loss: 1.1582 - accuracy: 0.5895 - val_loss: 1.2265 - val_accuracy: 0.6046\n",
      "Epoch 12/12\n",
      "293/293 [==============================] - 43s 148ms/step - loss: 1.1410 - accuracy: 0.5969 - val_loss: 1.2161 - val_accuracy: 0.6157\n"
     ]
    },
    {
     "data": {
      "image/png": "[encoded data removed]",
      "text/plain": [
       "<Figure size 432x288 with 1 Axes>"
      ]
     },
     "metadata": {
      "needs_background": "light"
     },
     "output_type": "display_data"
    },
    {
     "name": "stdout",
     "output_type": "stream",
     "text": [
      "Epoch 1/12\n",
      "293/293 [==============================] - 44s 152ms/step - loss: 0.0522 - accuracy: 0.6059 - val_loss: 0.0556 - val_accuracy: 0.6138\n",
      "Epoch 2/12\n",
      "293/293 [==============================] - 45s 155ms/step - loss: 0.0521 - accuracy: 0.6092 - val_loss: 0.0556 - val_accuracy: 0.6130\n",
      "Epoch 3/12\n",
      "293/293 [==============================] - 46s 156ms/step - loss: 0.0518 - accuracy: 0.6100 - val_loss: 0.0553 - val_accuracy: 0.6138\n",
      "Epoch 4/12\n",
      "293/293 [==============================] - 47s 160ms/step - loss: 0.0517 - accuracy: 0.6113 - val_loss: 0.0553 - val_accuracy: 0.6133\n",
      "Epoch 5/12\n",
      "293/293 [==============================] - 45s 154ms/step - loss: 0.0518 - accuracy: 0.6080 - val_loss: 0.0552 - val_accuracy: 0.6154\n",
      "Epoch 6/12\n",
      "293/293 [==============================] - 46s 156ms/step - loss: 0.0517 - accuracy: 0.6116 - val_loss: 0.0552 - val_accuracy: 0.6155\n",
      "Epoch 7/12\n",
      "293/293 [==============================] - 48s 163ms/step - loss: 0.0517 - accuracy: 0.6110 - val_loss: 0.0552 - val_accuracy: 0.6150\n",
      "Epoch 8/12\n",
      "293/293 [==============================] - 47s 160ms/step - loss: 0.0517 - accuracy: 0.6119 - val_loss: 0.0551 - val_accuracy: 0.6142\n",
      "Epoch 9/12\n",
      "293/293 [==============================] - 49s 167ms/step - loss: 0.0516 - accuracy: 0.6098 - val_loss: 0.0550 - val_accuracy: 0.6158\n",
      "Epoch 10/12\n",
      "293/293 [==============================] - 48s 164ms/step - loss: 0.0517 - accuracy: 0.6127 - val_loss: 0.0550 - val_accuracy: 0.6147\n",
      "Epoch 11/12\n",
      "293/293 [==============================] - 49s 167ms/step - loss: 0.0514 - accuracy: 0.6159 - val_loss: 0.0550 - val_accuracy: 0.6151\n",
      "Epoch 12/12\n",
      "293/293 [==============================] - 48s 165ms/step - loss: 0.0514 - accuracy: 0.6137 - val_loss: 0.0549 - val_accuracy: 0.6161\n"
     ]
    },
    {
     "data": {
      "image/png": "[encoded data removed]",
      "text/plain": [
       "<Figure size 432x288 with 1 Axes>"
      ]
     },
     "metadata": {
      "needs_background": "light"
     },
     "output_type": "display_data"
    },
    {
     "name": "stdout",
     "output_type": "stream",
     "text": [
      "Epoch 1/12\n",
      "293/293 [==============================] - 48s 163ms/step - loss: 0.1749 - accuracy: 0.6130 - val_loss: 0.1887 - val_accuracy: 0.6163\n",
      "Epoch 2/12\n",
      "293/293 [==============================] - 49s 166ms/step - loss: 0.1752 - accuracy: 0.6122 - val_loss: 0.1881 - val_accuracy: 0.6177\n",
      "Epoch 3/12\n",
      "293/293 [==============================] - 49s 168ms/step - loss: 0.1749 - accuracy: 0.6129 - val_loss: 0.1885 - val_accuracy: 0.6123\n",
      "Epoch 4/12\n",
      "293/293 [==============================] - 49s 166ms/step - loss: 0.1737 - accuracy: 0.6174 - val_loss: 0.1874 - val_accuracy: 0.6162\n",
      "Epoch 5/12\n",
      "293/293 [==============================] - 2046s 7s/step - loss: 0.1739 - accuracy: 0.6156 - val_loss: 0.1872 - val_accuracy: 0.6196\n",
      "Epoch 6/12\n",
      "293/293 [==============================] - 51s 174ms/step - loss: 0.1737 - accuracy: 0.6162 - val_loss: 0.1870 - val_accuracy: 0.6174\n",
      "Epoch 7/12\n",
      "293/293 [==============================] - 44s 149ms/step - loss: 0.1734 - accuracy: 0.6176 - val_loss: 0.1874 - val_accuracy: 0.6193\n",
      "Epoch 8/12\n",
      "293/293 [==============================] - 1864s 6s/step - loss: 0.1735 - accuracy: 0.6163 - val_loss: 0.1867 - val_accuracy: 0.6192\n",
      "Epoch 9/12\n",
      "293/293 [==============================] - 51s 174ms/step - loss: 0.1730 - accuracy: 0.6185 - val_loss: 0.1864 - val_accuracy: 0.6194\n",
      "Epoch 10/12\n",
      "293/293 [==============================] - 46s 156ms/step - loss: 0.1731 - accuracy: 0.6192 - val_loss: 0.1864 - val_accuracy: 0.6200\n",
      "Epoch 11/12\n",
      "293/293 [==============================] - 53s 180ms/step - loss: 0.1721 - accuracy: 0.6191 - val_loss: 0.1861 - val_accuracy: 0.6250\n",
      "Epoch 12/12\n",
      "293/293 [==============================] - 46s 158ms/step - loss: 0.1723 - accuracy: 0.6207 - val_loss: 0.1854 - val_accuracy: 0.6262\n"
     ]
    },
    {
     "data": {
      "image/png": "[encoded data removed]",
      "text/plain": [
       "<Figure size 432x288 with 1 Axes>"
      ]
     },
     "metadata": {
      "needs_background": "light"
     },
     "output_type": "display_data"
    }
   ],
   "source": [
    "for n in loss_list:\n",
    "    model.compile(loss=n,optimizer='sgd',metrics=['accuracy'])\n",
    "    train_history=model.fit(x_img_train_normalize, y_label_train_OneHot,\n",
    "                        validation_split=0.25,\n",
    "                        epochs=12, batch_size=128, verbose=1) \n",
    "    show_train_history('accuracy','val_accuracy')"
   ]
  },
  {
   "cell_type": "code",
   "execution_count": 23,
   "metadata": {},
   "outputs": [],
   "source": [
    "import matplotlib.pyplot as plt\n",
    "%matplotlib inline\n",
    "\n",
    "#定義一個繪圖函數\n",
    "def show_train_history(train_acc,test_acc):\n",
    "    plt.plot(train_history.history[train_acc])\n",
    "    plt.plot(train_history.history[test_acc])\n",
    "    plt.title('Train History')\n",
    "    plt.ylabel('Accuracy')\n",
    "    plt.xlabel('Epoch')\n",
    "    plt.legend(['train_acc', 'val_acc'], loc='upper left')\n",
    "    plt.show()"
   ]
  },
  {
   "cell_type": "code",
   "execution_count": null,
   "metadata": {},
   "outputs": [],
   "source": []
  }
 ],
 "metadata": {
  "colab": {
   "name": "Day71-使用損失函數_HW.ipynb",
   "provenance": [],
   "version": "0.3.2"
  },
  "kernelspec": {
   "display_name": "Python 3",
   "language": "python",
   "name": "python3"
  },
  "language_info": {
   "codemirror_mode": {
    "name": "ipython",
    "version": 3
   },
   "file_extension": ".py",
   "mimetype": "text/x-python",
   "name": "python",
   "nbconvert_exporter": "python",
   "pygments_lexer": "ipython3",
   "version": "3.7.3"
  }
 },
 "nbformat": 4,
 "nbformat_minor": 1
}
